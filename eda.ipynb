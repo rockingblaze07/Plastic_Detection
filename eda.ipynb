{
 "cells": [
  {
   "cell_type": "code",
   "execution_count": null,
   "id": "ce4f6712",
   "metadata": {},
   "outputs": [],
   "source": [
    "# EDA for Plastic Detection Dataset\n",
    "\n",
    "import os\n",
    "import numpy as np\n",
    "import pandas as pd\n",
    "import cv2\n",
    "import matplotlib.pyplot as plt\n",
    "\n",
    "DATASET_DIR = \"dataset/raw\"\n",
    "\n",
    "file_paths = []\n",
    "labels = []\n",
    "\n",
    "for label in os.listdir(DATASET_DIR):\n",
    "    folder = os.path.join(DATASET_DIR, label)\n",
    "    if os.path.isdir(folder):\n",
    "        for file in os.listdir(folder):\n",
    "            file_paths.append(os.path.join(folder, file))\n",
    "            labels.append(label)\n",
    "\n",
    "df = pd.DataFrame({\"file_path\": file_paths, \"label\": labels})\n",
    "print(\"✅ Dataset Loaded\")\n",
    "\n",
    "print(\"\\n--- Dataset Info ---\")\n",
    "print(df.info())\n",
    "\n",
    "print(\"\\n--- Dataset Description ---\")\n",
    "print(df.describe(include=\"all\"))\n",
    "\n",
    "print(\"\\n--- Missing Values ---\")\n",
    "print(df.isnull().sum())\n",
    "\n",
    "print(\"\\n--- Label Distribution ---\")\n",
    "print(df['label'].value_counts())\n",
    "\n",
    "plt.figure(figsize=(8,6))\n",
    "for i in range(6):\n",
    "    img = cv2.imread(df['file_path'][i])\n",
    "    img = cv2.cvtColor(img, cv2.COLOR_BGR2RGB)\n",
    "    plt.subplot(2,3,i+1)\n",
    "    plt.imshow(img)\n",
    "    plt.title(df['label'][i])\n",
    "    plt.axis(\"off\")\n",
    "plt.tight_layout()\n",
    "plt.show()\n"
   ]
  }
 ],
 "metadata": {
  "language_info": {
   "name": "python"
  }
 },
 "nbformat": 4,
 "nbformat_minor": 5
}
